{
 "cells": [
  {
   "cell_type": "code",
   "execution_count": 142,
   "metadata": {},
   "outputs": [
    {
     "name": "stdout",
     "output_type": "stream",
     "text": [
      "Once deleted, variables cannot be recovered. Proceed (y/[n])? y\n"
     ]
    }
   ],
   "source": [
    "%reset"
   ]
  },
  {
   "cell_type": "code",
   "execution_count": 143,
   "metadata": {},
   "outputs": [],
   "source": [
    "%matplotlib inline"
   ]
  },
  {
   "cell_type": "code",
   "execution_count": 169,
   "metadata": {},
   "outputs": [],
   "source": [
    "import pandas as pd\n",
    "import matplotlib.pyplot as plt\n",
    "from matplotlib import rc\n",
    "rc('text', usetex=False)\n",
    "rc('figure', figsize=(20,3))\n",
    "import warnings\n",
    "warnings.filterwarnings('ignore')"
   ]
  },
  {
   "cell_type": "code",
   "execution_count": 170,
   "metadata": {},
   "outputs": [],
   "source": [
    "#import seaborn as sns\n",
    "#sns.set_style(\"whitegrid\")"
   ]
  },
  {
   "cell_type": "code",
   "execution_count": 171,
   "metadata": {},
   "outputs": [],
   "source": [
    "INPUT_FILE = '../data/comtrans_en.txt'"
   ]
  },
  {
   "cell_type": "code",
   "execution_count": 172,
   "metadata": {},
   "outputs": [],
   "source": [
    "with open(INPUT_FILE, 'r') as english_corpus:\n",
    "    eu_data_en = english_corpus.readlines()"
   ]
  },
  {
   "cell_type": "code",
   "execution_count": 173,
   "metadata": {},
   "outputs": [],
   "source": [
    "# Data"
   ]
  },
  {
   "cell_type": "code",
   "execution_count": 174,
   "metadata": {},
   "outputs": [
    {
     "data": {
      "text/plain": [
       "['Resumption of the session\\n',\n",
       " 'I declare resumed the session of the European Parliament adjourned on Friday 17 December 1999 , and I would like once again to wish you a happy new year in the hope that you enjoyed a pleasant festive period .\\n',\n",
       " \"Although , as you will have seen , the dreaded ' millennium bug ' failed to materialise , still the people in a number of countries suffered a series of natural disasters that truly were dreadful .\\n\",\n",
       " 'You have requested a debate on this subject in the course of the next few days , during this part-session .\\n',\n",
       " \"Please rise , then , for this minute ' s silence .\\n\"]"
      ]
     },
     "execution_count": 174,
     "metadata": {},
     "output_type": "execute_result"
    }
   ],
   "source": [
    "eu_data_en[0:5]"
   ]
  },
  {
   "cell_type": "code",
   "execution_count": 175,
   "metadata": {},
   "outputs": [],
   "source": [
    "from collections import defaultdict"
   ]
  },
  {
   "cell_type": "code",
   "execution_count": 176,
   "metadata": {},
   "outputs": [],
   "source": [
    "char_dict = {}"
   ]
  },
  {
   "cell_type": "code",
   "execution_count": 177,
   "metadata": {},
   "outputs": [],
   "source": [
    "# Frequency Plot\n",
    "char_dict = {}\n",
    "for i in eu_data_en:\n",
    "    chars = list(i)\n",
    "    for j in chars:\n",
    "        if j not in char_dict:\n",
    "            char_dict[j] = 1\n",
    "        else:\n",
    "            char_dict[j] += 1"
   ]
  },
  {
   "cell_type": "code",
   "execution_count": 178,
   "metadata": {},
   "outputs": [
    {
     "data": {
      "text/plain": [
       "dict_keys(['R', 'e', 's', 'u', 'm', 'p', 't', 'i', 'o', 'n', ' ', 'f', 'h', '\\n', 'I', 'd', 'c', 'l', 'a', 'r', 'E', 'P', 'j', 'F', 'y', '1', '7', 'D', 'b', '9', ',', 'w', 'k', 'g', 'v', '.', 'A', \"'\", 'Y', 'q', 'x', '-', '(', 'T', 'H', ')', 'M', 'S', 'L', 'O', 'K', '4', '3', 'C', '6', 'Z', 'N', 'B', 'G', 'Q', 'W', '?', '8', 'z', 'V', 'U', 'J', '0', ':', '5', ';', '2', '!', '\"', '%', '/', 'X', '[', ']', '+', '$', '&'])"
      ]
     },
     "execution_count": 178,
     "metadata": {},
     "output_type": "execute_result"
    }
   ],
   "source": [
    "char_dict.keys()"
   ]
  },
  {
   "cell_type": "code",
   "execution_count": 179,
   "metadata": {},
   "outputs": [],
   "source": [
    "# Char Plot"
   ]
  },
  {
   "cell_type": "code",
   "execution_count": 180,
   "metadata": {},
   "outputs": [],
   "source": [
    "x = [i for i,_ in enumerate(char_dict)]\n",
    "y = [char_dict[k] for _,k in enumerate(char_dict)]"
   ]
  },
  {
   "cell_type": "code",
   "execution_count": 184,
   "metadata": {},
   "outputs": [
    {
     "data": {
      "image/png": "[encoded data removed]",
      "text/plain": [
       "<matplotlib.figure.Figure at 0x11653ec50>"
      ]
     },
     "metadata": {},
     "output_type": "display_data"
    }
   ],
   "source": [
    "plt.plot(x, y, color='g')\n",
    "plt.xlabel('Character Index')\n",
    "plt.ylabel('Frequency')\n",
    "plt.grid(False)\n",
    "\n",
    "plt.show()"
   ]
  },
  {
   "cell_type": "code",
   "execution_count": 165,
   "metadata": {},
   "outputs": [],
   "source": [
    "#max(char_dict, key=lambda key: char_dict[key])"
   ]
  },
  {
   "cell_type": "code",
   "execution_count": 166,
   "metadata": {},
   "outputs": [],
   "source": [
    "#char_dict[]"
   ]
  },
  {
   "cell_type": "code",
   "execution_count": 168,
   "metadata": {},
   "outputs": [
    {
     "name": "stdout",
     "output_type": "stream",
     "text": [
      "total 39144\r\n",
      "drwxr-xr-x  6 krishnakalyan3  staff   192B Sep 22  2010 \u001b[1m\u001b[36mcomtrans\u001b[m\u001b[m\r\n",
      "-rw-r--r--@ 1 krishnakalyan3  staff    11M Jul 14 23:41 comtrans.zip\r\n",
      "-rw-r--r--  1 krishnakalyan3  staff   4.0M Jul 14 23:42 comtrans_de.txt\r\n",
      "-rw-r--r--  1 krishnakalyan3  staff   3.7M Jul 14 23:42 comtrans_en.txt\r\n"
     ]
    }
   ],
   "source": [
    "!ls -ltrh ../data"
   ]
  },
  {
   "cell_type": "code",
   "execution_count": null,
   "metadata": {},
   "outputs": [],
   "source": []
  }
 ],
 "metadata": {
  "hide_input": false,
  "kernelspec": {
   "display_name": "Python 3",
   "language": "python",
   "name": "python3"
  },
  "language_info": {
   "codemirror_mode": {
    "name": "ipython",
    "version": 3
   },
   "file_extension": ".py",
   "mimetype": "text/x-python",
   "name": "python",
   "nbconvert_exporter": "python",
   "pygments_lexer": "ipython3",
   "version": "3.6.5"
  }
 },
 "nbformat": 4,
 "nbformat_minor": 2
}
